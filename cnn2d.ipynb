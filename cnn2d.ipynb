{
 "cells": [
  {
   "cell_type": "code",
   "execution_count": 1,
   "id": "b97ea289",
   "metadata": {},
   "outputs": [],
   "source": [
    "import torch\n",
    "import torch.nn as nn\n",
    "import torch.nn.functional as F\n",
    "import os"
   ]
  },
  {
   "cell_type": "code",
   "execution_count": 65,
   "id": "9728665a",
   "metadata": {},
   "outputs": [],
   "source": [
    "device = torch.device('cuda' if torch.cuda.is_available() else 'cpu')\n",
    "dataset_path = os.path.join(os.path.curdir, 'dataset')\n",
    "train_test_ratio = 0.8\n",
    "batch_size = 32\n",
    "num_epochs = 4"
   ]
  },
  {
   "cell_type": "code",
   "execution_count": null,
   "id": "6d9db9cf",
   "metadata": {},
   "outputs": [
    {
     "data": {
      "text/plain": [
       "[41, 39]"
      ]
     },
     "execution_count": 77,
     "metadata": {},
     "output_type": "execute_result"
    }
   ],
   "source": [
    "from torch.utils.data import Dataset\n",
    "from torchvision import transforms\n",
    "from PIL import Image\n",
    "\n",
    "class GoogleDriveDataset(Dataset):\n",
    "    def __init__(self, url, transform = None):\n",
    "        self.url = url\n",
    "        self.transform = transform\n",
    "\n",
    "        self.samples = []   # [(image_path: string, label: string)]\n",
    "        self.class_name_to_id = {} # {class_name: string -> id: number}\n",
    "        \n",
    "        for class_id, class_name in enumerate(sorted(os.listdir(url))):\n",
    "            self.class_name_to_id[class_name] = class_id\n",
    "\n",
    "            class_path = os.path.join(url, class_name)\n",
    "            for file_name in os.listdir(class_path):\n",
    "                self.samples.append((\n",
    "                    os.path.join(class_path, file_name),\n",
    "                    class_name\n",
    "                ))\n",
    "\n",
    "    \n",
    "    def __len__(self):\n",
    "        return len(self.samples)\n",
    "    \n",
    "    def __getitem__(self, idx):\n",
    "        image_path, label = dataset.samples[idx]\n",
    "        image = Image.open(image_path).convert('RGB')\n",
    "        if self.transform:\n",
    "            image = self.transform(image)\n",
    "        return image, label\n",
    "    \n",
    "dataset = GoogleDriveDataset(\n",
    "    dataset_path, \n",
    "    transforms.Compose([\n",
    "        transforms.Resize((256, 256)),\n",
    "        transforms.ToTensor(),\n",
    "        transforms.Normalize((0.5,0.5,0.5), (0.5,0.5,0.5))\n",
    "    ])\n",
    ")\n",
    "\n",
    "train_dataset, test_dataset = torch.utils.data.random_split(\n",
    "    dataset, [\n",
    "        int(train_test_ratio * len(dataset)), \n",
    "        len(dataset) - int(train_test_ratio * len(dataset))\n",
    "    ]\n",
    ")"
   ]
  },
  {
   "cell_type": "code",
   "execution_count": 25,
   "id": "a133fec2",
   "metadata": {},
   "outputs": [],
   "source": [
    "class Cnn(nn.Module):\n",
    "    def __init__(self, w, h, out):\n",
    "        super(Cnn, self).__init__()\n",
    "        self.conv1 = nn.Conv2d(3, 5, 5)\n",
    "        self.maxPool = nn.MaxPool2d(2, 2)\n",
    "        self.conv2 = nn.Conv2d(5, 5, 5)\n",
    "        l1w = (((w - self.conv1.kernel_size[0] + 1) // 2 - self.conv2.kernel_size[0] + 1) // 2)\n",
    "        l1h = (((h - self.conv1.kernel_size[0] + 1) // 2 - self.conv2.kernel_size[0] + 1) // 2)\n",
    "        print(f'conv out dim: {l1w} x {l1h}')\n",
    "        self.l1 = nn.Linear(l1w * l1h * 5, 120)\n",
    "        self.l2 = nn.Linear(self.l1.out_features, 80)\n",
    "        self.l3 = nn.Linear(self.l2.out_features, out)\n",
    "        nParams = 0\n",
    "        for p in self.parameters():\n",
    "            nParams += p.data.view(-1).size()[0]\n",
    "        print(f'params count: {nParams}')\n",
    "    \n",
    "    def forward(self, x):\n",
    "        x = self.maxPool(F.relu(self.conv1(x)))\n",
    "        x = self.maxPool(F.relu(self.conv2(x)))\n",
    "        x = x.view(-1, self.l1.in_features)\n",
    "        x = F.relu(self.l1(x))\n",
    "        x = F.relu(self.l2(x))\n",
    "        x = self.l3(x)\n",
    "        return x"
   ]
  },
  {
   "cell_type": "code",
   "execution_count": 27,
   "id": "30422990",
   "metadata": {},
   "outputs": [
    {
     "name": "stdout",
     "output_type": "stream",
     "text": [
      "conv out dim: 29 x 29\n",
      "params count: 515815\n"
     ]
    }
   ],
   "source": [
    "cnn = Cnn(128, 128, 5).to(device)\n",
    "\n",
    "criterion = nn.CrossEntropyLoss()\n",
    "optimizer = torch.optim.Adam(cnn.parameters())"
   ]
  }
 ],
 "metadata": {
  "kernelspec": {
   "display_name": "Python 3 (ipykernel)",
   "language": "python",
   "name": "python3"
  },
  "language_info": {
   "codemirror_mode": {
    "name": "ipython",
    "version": 3
   },
   "file_extension": ".py",
   "mimetype": "text/x-python",
   "name": "python",
   "nbconvert_exporter": "python",
   "pygments_lexer": "ipython3",
   "version": "3.13.3"
  }
 },
 "nbformat": 4,
 "nbformat_minor": 5
}
