{
 "cells": [
  {
   "cell_type": "code",
   "execution_count": 2,
   "id": "b97ea289",
   "metadata": {},
   "outputs": [],
   "source": [
    "import torch\n",
    "import torch.nn as nn\n",
    "import torch.nn.functional as F\n",
    "import os\n",
    "import matplotlib.pyplot as plt"
   ]
  },
  {
   "cell_type": "markdown",
   "id": "c9a8066a",
   "metadata": {},
   "source": [
    "## Parâmetros"
   ]
  },
  {
   "cell_type": "code",
   "execution_count": 5,
   "id": "9728665a",
   "metadata": {},
   "outputs": [],
   "source": [
    "device = torch.device('cuda' if torch.cuda.is_available() else 'cpu')\n",
    "dataset_path = os.path.join(os.path.curdir, 'dataset')\n",
    "train_test_ratio = 0.8\n",
    "img_size = (128, 128)\n",
    "batch_size = 32\n",
    "num_epochs = 4"
   ]
  },
  {
   "cell_type": "markdown",
   "id": "8f0b5c1c",
   "metadata": {},
   "source": [
    "## Carregar Dataset"
   ]
  },
  {
   "cell_type": "code",
   "execution_count": null,
   "id": "6d9db9cf",
   "metadata": {},
   "outputs": [],
   "source": [
    "from torch.utils.data import Dataset\n",
    "from torchvision import transforms\n",
    "from PIL import Image\n",
    "\n",
    "class GoogleDriveDataset(Dataset):\n",
    "    def __init__(self, url, transform = None):\n",
    "        self.url = url\n",
    "        self.transform = transform\n",
    "\n",
    "        self.samples = []   # [(image_path: string, label: string)]\n",
    "        self.class_name_to_id = {} # {class_name: string -> id: number}\n",
    "        \n",
    "        for class_id, class_name in enumerate(sorted(os.listdir(url))):\n",
    "            self.class_name_to_id[class_name] = class_id\n",
    "\n",
    "            class_path = os.path.join(url, class_name)\n",
    "            for file_name in os.listdir(class_path):\n",
    "                self.samples.append((\n",
    "                    os.path.join(class_path, file_name),\n",
    "                    class_id\n",
    "                ))\n",
    "\n",
    "    \n",
    "    def __len__(self):\n",
    "        return len(self.samples)\n",
    "    \n",
    "    def __getitem__(self, idx):\n",
    "        image_path, label = dataset.samples[idx]\n",
    "        image = Image.open(image_path).convert('RGB')\n",
    "        if self.transform:\n",
    "            image = self.transform(image)\n",
    "        return image, label\n",
    "    \n",
    "dataset = GoogleDriveDataset(\n",
    "    dataset_path, \n",
    "    transforms.Compose([\n",
    "        transforms.Resize(img_size),\n",
    "        transforms.ToTensor(),\n",
    "        transforms.Normalize((0.5,0.5,0.5), (0.5,0.5,0.5))\n",
    "    ])\n",
    ")\n",
    "\n",
    "train_dataset, test_dataset = torch.utils.data.random_split(\n",
    "    dataset, [\n",
    "        int(train_test_ratio * len(dataset)), \n",
    "        len(dataset) - int(train_test_ratio * len(dataset))\n",
    "    ]\n",
    ")\n",
    "\n",
    "train_loader = torch.utils.data.DataLoader(train_dataset, batch_size, shuffle=True)\n",
    "test_loader = torch.utils.data.DataLoader(test_dataset, len(test_dataset), shuffle=True)"
   ]
  },
  {
   "cell_type": "markdown",
   "id": "536ce262",
   "metadata": {},
   "source": [
    "## Definir Rede Neural"
   ]
  },
  {
   "cell_type": "code",
   "execution_count": 15,
   "id": "a133fec2",
   "metadata": {},
   "outputs": [],
   "source": [
    "class Cnn(nn.Module):\n",
    "    def __init__(self, input_size, out):\n",
    "        super(Cnn, self).__init__()\n",
    "        self.conv1 = nn.Conv2d(3, 5, 5)\n",
    "        self.maxPool = nn.MaxPool2d(2, 2)\n",
    "        self.conv2 = nn.Conv2d(5, 5, 5)\n",
    "        l1w = (((input_size[0] - self.conv1.kernel_size[0] + 1) // 2 - self.conv2.kernel_size[0] + 1) // 2)\n",
    "        l1h = (((input_size[1] - self.conv1.kernel_size[0] + 1) // 2 - self.conv2.kernel_size[0] + 1) // 2)\n",
    "        print(f'[CNN] conv out dim: {l1w} x {l1h}')\n",
    "        self.l1 = nn.Linear(l1w * l1h * 5, 120)\n",
    "        self.l2 = nn.Linear(self.l1.out_features, 80)\n",
    "        self.l3 = nn.Linear(self.l2.out_features, out)\n",
    "        nParams = 0\n",
    "        for p in self.parameters():\n",
    "            nParams += p.data.view(-1).size()[0]\n",
    "        print(f'[CNN] params count: {nParams}')\n",
    "    \n",
    "    def forward(self, x):\n",
    "        x = self.maxPool(F.relu(self.conv1(x)))\n",
    "        x = self.maxPool(F.relu(self.conv2(x)))\n",
    "        x = x.view(-1, self.l1.in_features)\n",
    "        x = F.relu(self.l1(x))\n",
    "        x = F.relu(self.l2(x))\n",
    "        x = self.l3(x)\n",
    "        return x"
   ]
  },
  {
   "cell_type": "code",
   "execution_count": 16,
   "id": "30422990",
   "metadata": {},
   "outputs": [
    {
     "name": "stdout",
     "output_type": "stream",
     "text": [
      "[CNN] conv out dim: 29 x 29\n",
      "[CNN] params count: 515815\n"
     ]
    }
   ],
   "source": [
    "cnn = Cnn(img_size, 5).to(device)\n",
    "\n",
    "criterion = nn.CrossEntropyLoss()\n",
    "optimizer = torch.optim.Adam(cnn.parameters())"
   ]
  },
  {
   "cell_type": "markdown",
   "id": "e60e28a6",
   "metadata": {},
   "source": [
    "## Treinar"
   ]
  },
  {
   "cell_type": "code",
   "execution_count": 19,
   "id": "91747adf",
   "metadata": {},
   "outputs": [],
   "source": [
    "lossi = []"
   ]
  },
  {
   "cell_type": "code",
   "execution_count": 55,
   "id": "33fce15b",
   "metadata": {},
   "outputs": [
    {
     "name": "stdout",
     "output_type": "stream",
     "text": [
      "loss = 0.18016968667507172\n",
      "loss = 0.037545643746852875\n",
      "loss = 0.08142722398042679\n",
      "loss = 0.07167027145624161\n",
      "loss = 0.054023440927267075\n",
      "loss = 0.1382872611284256\n",
      "loss = 0.06641381978988647\n",
      "loss = 0.10064263641834259\n",
      "loss = 0.0769934132695198\n",
      "loss = 0.019613323733210564\n",
      "loss = 0.0507371723651886\n",
      "loss = 0.060588400810956955\n",
      "loss = 0.05316924676299095\n",
      "loss = 0.05277223512530327\n",
      "loss = 0.0677890032529831\n",
      "loss = 0.029883351176977158\n",
      "loss = 0.03902112692594528\n",
      "loss = 0.05363256484270096\n",
      "loss = 0.06559138745069504\n",
      "loss = 0.1565445065498352\n",
      "loss = 0.11066371202468872\n",
      "loss = 0.03705413267016411\n",
      "loss = 0.007553503382951021\n",
      "loss = 0.2904875874519348\n",
      "loss = 0.03262303024530411\n",
      "loss = 0.08725637197494507\n",
      "loss = 0.016390062868595123\n",
      "loss = 0.04475059360265732\n",
      "loss = 0.01857193373143673\n",
      "loss = 0.01737755350768566\n",
      "loss = 0.028062019497156143\n",
      "loss = 0.019518796354532242\n",
      "loss = 0.03485482186079025\n",
      "loss = 0.01427729893475771\n",
      "loss = 0.011444568634033203\n",
      "loss = 0.021482177078723907\n",
      "loss = 0.016497964039444923\n",
      "loss = 0.004294100683182478\n",
      "loss = 0.009354744106531143\n",
      "loss = 0.0028635235503315926\n",
      "loss = 0.011299802921712399\n",
      "loss = 0.0033023294527083635\n",
      "loss = 0.00261086318641901\n",
      "loss = 0.012514457106590271\n",
      "loss = 0.004569589160382748\n",
      "loss = 0.003595486283302307\n",
      "loss = 0.0035320178139954805\n",
      "loss = 0.007340230513364077\n",
      "loss = 0.004267042502760887\n",
      "loss = 0.0027219057083129883\n",
      "loss = 0.004395794123411179\n",
      "loss = 0.0005240340833552182\n",
      "loss = 0.002464159158989787\n",
      "loss = 0.0026492830365896225\n",
      "loss = 0.002024024957790971\n",
      "loss = 0.0016064692754298449\n",
      "loss = 0.004073569551110268\n",
      "loss = 0.0016476684249937534\n",
      "loss = 0.0018313967157155275\n",
      "loss = 0.0009354765061289072\n",
      "loss = 0.0018022898584604263\n",
      "loss = 0.0018650576239451766\n",
      "loss = 0.0010918071493506432\n",
      "loss = 0.00039068993646651506\n",
      "loss = 0.0011666567297652364\n",
      "loss = 0.0014525396982207894\n",
      "loss = 0.0007032840512692928\n",
      "loss = 0.0019736289978027344\n",
      "loss = 0.0016507247928529978\n",
      "loss = 0.0003633713349699974\n",
      "loss = 0.0009866668842732906\n",
      "loss = 0.0016809171065688133\n",
      "loss = 0.0006274193874560297\n",
      "loss = 0.0011581374565139413\n",
      "loss = 0.0015309357549995184\n",
      "loss = 0.0006934551638551056\n",
      "loss = 0.000772819563280791\n",
      "loss = 0.0006214824970811605\n",
      "loss = 0.0006048924988135695\n",
      "loss = 0.0016999980434775352\n",
      "loss = 0.0008641239837743342\n",
      "loss = 0.0001503441744716838\n",
      "loss = 0.001205423497594893\n",
      "loss = 0.0005918218521401286\n",
      "loss = 0.0009802320273593068\n",
      "loss = 0.00033708271803334355\n",
      "loss = 0.0010331087978556752\n",
      "loss = 0.00042283948278054595\n",
      "loss = 0.0008326638489961624\n",
      "loss = 0.0007112066959962249\n",
      "loss = 0.0004603686393238604\n",
      "loss = 0.0009352681809104979\n",
      "loss = 0.0010207239538431168\n",
      "loss = 0.0005171183729544282\n",
      "loss = 0.00030893541406840086\n",
      "loss = 0.0013546160189434886\n",
      "loss = 0.00024413685605395585\n",
      "loss = 0.0009440392022952437\n",
      "loss = 0.0008347112452611327\n",
      "loss = 0.00045004283310845494\n",
      "loss = 0.0005333082517609\n",
      "loss = 0.0007705482421442866\n",
      "loss = 0.0005088712205179036\n",
      "loss = 0.0007558683282695711\n",
      "loss = 0.0006205637473613024\n",
      "loss = 0.00016945581592153758\n",
      "loss = 0.0006523231277242303\n",
      "loss = 7.719350833212957e-05\n",
      "loss = 0.00035576862865127623\n",
      "loss = 0.0003409063210710883\n",
      "loss = 0.0005900810938328505\n",
      "loss = 0.00010666450543794781\n",
      "loss = 0.0005607088678516448\n",
      "loss = 0.0006246697157621384\n",
      "loss = 0.0005359352799132466\n",
      "loss = 0.00039717808249406517\n",
      "loss = 0.00041771255200728774\n",
      "loss = 0.0006297637009993196\n",
      "loss = 0.0003339252434670925\n",
      "loss = 0.0005416248459368944\n",
      "loss = 0.0003376223612576723\n",
      "loss = 0.00028481846675276756\n",
      "loss = 0.0005541149294003844\n",
      "loss = 0.0004251053906045854\n",
      "loss = 0.0004300412256270647\n",
      "loss = 0.0004039435589220375\n",
      "loss = 0.0003024036413989961\n",
      "loss = 0.00037014190456829965\n",
      "loss = 0.00018045937758870423\n",
      "loss = 0.0004635375807993114\n",
      "loss = 0.0005775736062787473\n",
      "loss = 0.00016493938164785504\n",
      "loss = 0.0002804999239742756\n",
      "loss = 0.0004646469315048307\n",
      "loss = 0.00046425312757492065\n",
      "loss = 0.00022396360873244703\n",
      "loss = 0.0004386569489724934\n",
      "loss = 0.00016124459216371179\n",
      "loss = 0.00032472677412442863\n",
      "loss = 0.00023382375366054475\n",
      "loss = 0.0001927303965203464\n",
      "loss = 0.0004508388810791075\n",
      "loss = 0.00037667821743525565\n",
      "loss = 4.012406134279445e-05\n",
      "loss = 9.10202506929636e-05\n",
      "loss = 0.0005232100374996662\n",
      "loss = 0.00021101950551383197\n",
      "loss = 0.00045306829269975424\n",
      "loss = 0.00018129582167603076\n",
      "loss = 0.00028582639060914516\n",
      "loss = 0.0002550796780269593\n",
      "loss = 0.0003319118113722652\n",
      "loss = 0.00026540367980487645\n",
      "loss = 0.0003841810394078493\n",
      "loss = 0.00031385564943775535\n",
      "loss = 0.0002543951559346169\n",
      "loss = 0.00012871139915660024\n",
      "loss = 0.0005834162584505975\n",
      "loss = 0.00017181164002977312\n",
      "loss = 0.0004287433694116771\n",
      "loss = 0.00024096149718388915\n",
      "loss = 2.4965473130578175e-05\n",
      "loss = 0.00013182099792174995\n",
      "loss = 0.0004377378791105002\n",
      "loss = 0.0001681431895121932\n",
      "loss = 9.300482633989304e-05\n",
      "loss = 0.00023094253265298903\n",
      "loss = 0.00025158413336612284\n",
      "loss = 0.00018660914793144912\n",
      "loss = 0.00020079257956240326\n",
      "loss = 0.00020111384219489992\n",
      "loss = 0.00018538977019488811\n",
      "loss = 0.00021339526574593037\n",
      "loss = 0.0001698681735433638\n",
      "loss = 0.0001527713320683688\n",
      "loss = 0.00022260312107391655\n",
      "loss = 0.00020258851873222739\n",
      "loss = 0.00027080325526185334\n",
      "loss = 0.00027550256345421076\n",
      "loss = 8.59720676089637e-05\n",
      "loss = 0.0002517933608032763\n",
      "loss = 8.67603303049691e-05\n",
      "loss = 0.0002060933329630643\n",
      "loss = 0.00019136736227665097\n",
      "loss = 0.00015097795403562486\n",
      "loss = 8.623197936685756e-05\n",
      "loss = 0.00027055779355578125\n",
      "loss = 7.33355846023187e-05\n",
      "loss = 0.0002778215566650033\n",
      "loss = 0.00012640803470276296\n",
      "loss = 8.836625784169883e-05\n",
      "loss = 0.00020627457706723362\n",
      "loss = 0.00019866510410793126\n",
      "loss = 0.00021587198716588318\n",
      "loss = 0.00018053551320917904\n",
      "loss = 0.00026790035190060735\n",
      "loss = 0.00016209490422625095\n",
      "loss = 6.157367897685617e-05\n",
      "loss = 0.00020152788783889264\n",
      "loss = 0.0001405678631272167\n"
     ]
    }
   ],
   "source": [
    "for epoch in range(100):\n",
    "    for i, (images, labels) in enumerate(train_loader):\n",
    "        images = images.to(device)\n",
    "        labels = labels.to(device)\n",
    "        \n",
    "        outputs = cnn(images)\n",
    "        loss = criterion(outputs, labels)\n",
    "        lossi.append(loss.data)\n",
    "\n",
    "        optimizer.zero_grad()\n",
    "        loss.backward()\n",
    "        optimizer.step()\n",
    "\n",
    "        if i % 1000:\n",
    "            print(f'loss = {loss.data}')"
   ]
  },
  {
   "cell_type": "code",
   "execution_count": 63,
   "id": "e0eca6a8",
   "metadata": {},
   "outputs": [
    {
     "data": {
      "text/plain": [
       "[<matplotlib.lines.Line2D at 0x713e17f6a850>]"
      ]
     },
     "execution_count": 63,
     "metadata": {},
     "output_type": "execute_result"
    },
    {
     "data": {
      "image/png": "[encoded data removed]",
      "text/plain": [
       "<Figure size 640x480 with 1 Axes>"
      ]
     },
     "metadata": {},
     "output_type": "display_data"
    }
   ],
   "source": [
    "plt.title('loss')\n",
    "plt.plot(lossi)"
   ]
  },
  {
   "cell_type": "code",
   "execution_count": null,
   "id": "7c756b21",
   "metadata": {},
   "outputs": [
    {
     "name": "stdout",
     "output_type": "stream",
     "text": [
      "Final train accuracy: 99.967638290912%\n"
     ]
    }
   ],
   "source": [
    "print(f'Última taxa de acerto no treino registrada: {10**(-lossi[-1].item() + 2)}%')"
   ]
  },
  {
   "cell_type": "markdown",
   "id": "fbacf340",
   "metadata": {},
   "source": [
    "## Teste"
   ]
  },
  {
   "cell_type": "code",
   "execution_count": 72,
   "id": "7c1a5cc6",
   "metadata": {},
   "outputs": [
    {
     "name": "stdout",
     "output_type": "stream",
     "text": [
      "Taxa de acerto nos testes: 17 / 20 (85.0%)\n"
     ]
    }
   ],
   "source": [
    "with torch.no_grad():\n",
    "    n_correct = 0\n",
    "    for images, labels in test_loader:\n",
    "        outputs = cnn(images)\n",
    "        _, pred = torch.max(outputs, 1)\n",
    "        n_correct += (pred == labels).sum().item()\n",
    "    \n",
    "    accuaracy = n_correct / len(test_dataset) * 100\n",
    "    print(f'Taxa de acerto nos testes: {n_correct} / {len(test_dataset)} ({accuaracy}%)')"
   ]
  }
 ],
 "metadata": {
  "kernelspec": {
   "display_name": "env",
   "language": "python",
   "name": "python3"
  },
  "language_info": {
   "codemirror_mode": {
    "name": "ipython",
    "version": 3
   },
   "file_extension": ".py",
   "mimetype": "text/x-python",
   "name": "python",
   "nbconvert_exporter": "python",
   "pygments_lexer": "ipython3",
   "version": "3.13.3"
  }
 },
 "nbformat": 4,
 "nbformat_minor": 5
}
